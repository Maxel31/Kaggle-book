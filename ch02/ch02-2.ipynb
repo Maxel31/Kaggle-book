{
 "cells": [
  {
   "cell_type": "markdown",
   "metadata": {},
   "source": [
    "## 2.4 評価指標と目的関数"
   ]
  },
  {
   "cell_type": "code",
   "execution_count": 1,
   "metadata": {},
   "outputs": [],
   "source": [
    "import numpy as np\n",
    "import pandas as pd"
   ]
  },
  {
   "cell_type": "code",
   "execution_count": 2,
   "metadata": {},
   "outputs": [],
   "source": [
    "train = pd.read_csv('../input/sample-data/train_preprocessed.csv')\n",
    "train_x = train.drop(['target'], axis=1)\n",
    "train_y = train['target']\n",
    "test_x = pd.read_csv('../input/sample-data/test_preprocessed.csv')"
   ]
  },
  {
   "cell_type": "code",
   "execution_count": 3,
   "metadata": {},
   "outputs": [],
   "source": [
    "from sklearn.model_selection import KFold\n",
    "\n",
    "kf = KFold(n_splits=4, shuffle=True, random_state=71)\n",
    "tr_idx, va_idx = list(kf.split(train_x))[0]\n",
    "\n",
    "# 学習データを学習データとバリデーションデータに分ける\n",
    "tr_x, va_x = train_x.iloc[tr_idx], train_x.iloc[va_idx]\n",
    "tr_y, va_y = train_y.iloc[tr_idx], train_y.iloc[va_idx]"
   ]
  },
  {
   "cell_type": "code",
   "execution_count": 6,
   "metadata": {},
   "outputs": [],
   "source": [
    "# -----------------------------------\n",
    "# xgboost におけるカスタム評価指標と目的関数の例\n",
    "# （参考）https://github.com/dmlc/xgboost/blob/master/demo/guide-python/custom_objective.py\n",
    "# -----------------------------------\n",
    "import xgboost as xgb\n",
    "from sklearn.metrics import log_loss\n",
    "\n",
    "# 特徴量と目的変数をxgboostのデータ構造に変換する\n",
    "# 学習データの特徴量と目的変数がtr_x, tr_y、バリデーションデータの特徴量と目的変数がva_x, va_yとする\n",
    "dtrain = xgb.DMatrix(tr_x, label=tr_y)\n",
    "dvalid = xgb.DMatrix(va_x, label=va_y)\n"
   ]
  },
  {
   "cell_type": "code",
   "execution_count": 7,
   "metadata": {},
   "outputs": [
    {
     "name": "stdout",
     "output_type": "stream",
     "text": [
      "[20:27:32] WARNING: ../src/learner.cc:767: \n",
      "Parameters: { \"silent\" } are not used.\n",
      "\n",
      "[0]\ttrain-rmse:0.40041\ttrain-custom-error:0.16947\teval-rmse:0.42362\teval-custom-error:0.19080\n"
     ]
    },
    {
     "name": "stderr",
     "output_type": "stream",
     "text": [
      "/home/shion31/dev/kaggle-book/.venv/lib/python3.11/site-packages/xgboost/core.py:617: FutureWarning: Pass `evals` as keyword args.\n",
      "  warnings.warn(msg, FutureWarning)\n",
      "/home/shion31/dev/kaggle-book/.venv/lib/python3.11/site-packages/xgboost/training.py:39: UserWarning: `feval` is deprecated, use `custom_metric` instead.  They have different behavior when custom objective is also used.See https://xgboost.readthedocs.io/en/latest/tutorials/custom_metric_obj.html for details on the `custom_metric`.\n",
      "  warnings.warn(\n"
     ]
    },
    {
     "name": "stdout",
     "output_type": "stream",
     "text": [
      "[1]\ttrain-rmse:0.70228\ttrain-custom-error:0.11547\teval-rmse:0.72145\teval-custom-error:0.14920\n",
      "[2]\ttrain-rmse:0.98133\ttrain-custom-error:0.10280\teval-rmse:0.99697\teval-custom-error:0.13520\n",
      "[3]\ttrain-rmse:1.22320\ttrain-custom-error:0.09920\teval-rmse:1.23609\teval-custom-error:0.13680\n",
      "[4]\ttrain-rmse:1.43864\ttrain-custom-error:0.09453\teval-rmse:1.44949\teval-custom-error:0.13720\n",
      "[5]\ttrain-rmse:1.63033\ttrain-custom-error:0.08947\teval-rmse:1.63831\teval-custom-error:0.12920\n",
      "[6]\ttrain-rmse:1.79480\ttrain-custom-error:0.08453\teval-rmse:1.80122\teval-custom-error:0.12920\n",
      "[7]\ttrain-rmse:1.94509\ttrain-custom-error:0.07920\teval-rmse:1.94581\teval-custom-error:0.12640\n",
      "[8]\ttrain-rmse:2.06040\ttrain-custom-error:0.07680\teval-rmse:2.06055\teval-custom-error:0.12840\n",
      "[9]\ttrain-rmse:2.16885\ttrain-custom-error:0.07160\teval-rmse:2.16838\teval-custom-error:0.12400\n",
      "[10]\ttrain-rmse:2.27799\ttrain-custom-error:0.06853\teval-rmse:2.27434\teval-custom-error:0.12320\n",
      "[11]\ttrain-rmse:2.37375\ttrain-custom-error:0.06347\teval-rmse:2.36658\teval-custom-error:0.11640\n",
      "[12]\ttrain-rmse:2.45789\ttrain-custom-error:0.06200\teval-rmse:2.44850\teval-custom-error:0.11640\n",
      "[13]\ttrain-rmse:2.54263\ttrain-custom-error:0.05640\teval-rmse:2.52881\teval-custom-error:0.11480\n",
      "[14]\ttrain-rmse:2.63597\ttrain-custom-error:0.05307\teval-rmse:2.62313\teval-custom-error:0.11160\n",
      "[15]\ttrain-rmse:2.69488\ttrain-custom-error:0.04973\teval-rmse:2.67976\teval-custom-error:0.11120\n",
      "[16]\ttrain-rmse:2.75300\ttrain-custom-error:0.04773\teval-rmse:2.73074\teval-custom-error:0.11280\n",
      "[17]\ttrain-rmse:2.81005\ttrain-custom-error:0.04613\teval-rmse:2.78479\teval-custom-error:0.11320\n",
      "[18]\ttrain-rmse:2.87602\ttrain-custom-error:0.04280\teval-rmse:2.84483\teval-custom-error:0.11040\n",
      "[19]\ttrain-rmse:2.93112\ttrain-custom-error:0.04187\teval-rmse:2.89821\teval-custom-error:0.10800\n",
      "[20]\ttrain-rmse:2.98633\ttrain-custom-error:0.03853\teval-rmse:2.95071\teval-custom-error:0.10600\n",
      "[21]\ttrain-rmse:3.03141\ttrain-custom-error:0.03747\teval-rmse:2.99213\teval-custom-error:0.10520\n",
      "[22]\ttrain-rmse:3.08452\ttrain-custom-error:0.03573\teval-rmse:3.04040\teval-custom-error:0.10320\n",
      "[23]\ttrain-rmse:3.14076\ttrain-custom-error:0.03213\teval-rmse:3.09457\teval-custom-error:0.10000\n",
      "[24]\ttrain-rmse:3.19359\ttrain-custom-error:0.03160\teval-rmse:3.14409\teval-custom-error:0.10160\n",
      "[25]\ttrain-rmse:3.22294\ttrain-custom-error:0.03160\teval-rmse:3.17373\teval-custom-error:0.10200\n",
      "[26]\ttrain-rmse:3.25593\ttrain-custom-error:0.02920\teval-rmse:3.20251\teval-custom-error:0.10160\n",
      "[27]\ttrain-rmse:3.31172\ttrain-custom-error:0.02560\teval-rmse:3.25334\teval-custom-error:0.09880\n",
      "[28]\ttrain-rmse:3.36408\ttrain-custom-error:0.02467\teval-rmse:3.30130\teval-custom-error:0.09760\n",
      "[29]\ttrain-rmse:3.42475\ttrain-custom-error:0.02413\teval-rmse:3.36154\teval-custom-error:0.09920\n",
      "[30]\ttrain-rmse:3.46233\ttrain-custom-error:0.02080\teval-rmse:3.39506\teval-custom-error:0.09720\n",
      "[31]\ttrain-rmse:3.52163\ttrain-custom-error:0.01960\teval-rmse:3.44925\teval-custom-error:0.09600\n",
      "[32]\ttrain-rmse:3.56559\ttrain-custom-error:0.01947\teval-rmse:3.48924\teval-custom-error:0.09600\n",
      "[33]\ttrain-rmse:3.60194\ttrain-custom-error:0.01880\teval-rmse:3.52528\teval-custom-error:0.09800\n",
      "[34]\ttrain-rmse:3.63756\ttrain-custom-error:0.01840\teval-rmse:3.55930\teval-custom-error:0.09960\n",
      "[35]\ttrain-rmse:3.68200\ttrain-custom-error:0.01667\teval-rmse:3.60191\teval-custom-error:0.09720\n",
      "[36]\ttrain-rmse:3.71468\ttrain-custom-error:0.01587\teval-rmse:3.63565\teval-custom-error:0.09480\n",
      "[37]\ttrain-rmse:3.76866\ttrain-custom-error:0.01467\teval-rmse:3.68550\teval-custom-error:0.09600\n",
      "[38]\ttrain-rmse:3.79198\ttrain-custom-error:0.01413\teval-rmse:3.70616\teval-custom-error:0.09600\n",
      "[39]\ttrain-rmse:3.81722\ttrain-custom-error:0.01333\teval-rmse:3.73047\teval-custom-error:0.09720\n",
      "[40]\ttrain-rmse:3.85869\ttrain-custom-error:0.01187\teval-rmse:3.76862\teval-custom-error:0.09920\n",
      "[41]\ttrain-rmse:3.88978\ttrain-custom-error:0.01173\teval-rmse:3.79850\teval-custom-error:0.09720\n",
      "[42]\ttrain-rmse:3.92152\ttrain-custom-error:0.01133\teval-rmse:3.82730\teval-custom-error:0.09840\n",
      "[43]\ttrain-rmse:3.96269\ttrain-custom-error:0.01027\teval-rmse:3.86508\teval-custom-error:0.09840\n",
      "[44]\ttrain-rmse:3.99083\ttrain-custom-error:0.01080\teval-rmse:3.89179\teval-custom-error:0.09720\n",
      "[45]\ttrain-rmse:4.02467\ttrain-custom-error:0.00987\teval-rmse:3.91969\teval-custom-error:0.09720\n",
      "[46]\ttrain-rmse:4.06247\ttrain-custom-error:0.00853\teval-rmse:3.95514\teval-custom-error:0.09840\n",
      "[47]\ttrain-rmse:4.10605\ttrain-custom-error:0.00773\teval-rmse:3.99457\teval-custom-error:0.09840\n",
      "[48]\ttrain-rmse:4.12540\ttrain-custom-error:0.00733\teval-rmse:4.01296\teval-custom-error:0.09760\n",
      "[49]\ttrain-rmse:4.14995\ttrain-custom-error:0.00733\teval-rmse:4.03671\teval-custom-error:0.10040\n",
      "0.22561101989849916\n",
      "[20:27:34] WARNING: ../src/learner.cc:767: \n",
      "Parameters: { \"silent\" } are not used.\n",
      "\n",
      "[0]\ttrain-logloss:0.54088\teval-logloss:0.55003\n",
      "[1]\ttrain-logloss:0.45269\teval-logloss:0.47182\n",
      "[2]\ttrain-logloss:0.39482\teval-logloss:0.42026\n",
      "[3]\ttrain-logloss:0.35198\teval-logloss:0.38520\n",
      "[4]\ttrain-logloss:0.32021\teval-logloss:0.36150\n",
      "[5]\ttrain-logloss:0.29673\teval-logloss:0.34463\n",
      "[6]\ttrain-logloss:0.27610\teval-logloss:0.32900\n",
      "[7]\ttrain-logloss:0.25886\teval-logloss:0.31670\n"
     ]
    },
    {
     "name": "stderr",
     "output_type": "stream",
     "text": [
      "/home/shion31/dev/kaggle-book/.venv/lib/python3.11/site-packages/xgboost/core.py:617: FutureWarning: Pass `evals` as keyword args.\n",
      "  warnings.warn(msg, FutureWarning)\n"
     ]
    },
    {
     "name": "stdout",
     "output_type": "stream",
     "text": [
      "[8]\ttrain-logloss:0.24363\teval-logloss:0.30775\n",
      "[9]\ttrain-logloss:0.23153\teval-logloss:0.30093\n",
      "[10]\ttrain-logloss:0.22016\teval-logloss:0.29413\n",
      "[11]\ttrain-logloss:0.20963\teval-logloss:0.28528\n",
      "[12]\ttrain-logloss:0.19951\teval-logloss:0.27912\n",
      "[13]\ttrain-logloss:0.19324\teval-logloss:0.27642\n",
      "[14]\ttrain-logloss:0.18547\teval-logloss:0.27154\n",
      "[15]\ttrain-logloss:0.17474\teval-logloss:0.26516\n",
      "[16]\ttrain-logloss:0.16900\teval-logloss:0.26089\n",
      "[17]\ttrain-logloss:0.16323\teval-logloss:0.25849\n",
      "[18]\ttrain-logloss:0.15950\teval-logloss:0.25691\n",
      "[19]\ttrain-logloss:0.15637\teval-logloss:0.25511\n",
      "[20]\ttrain-logloss:0.14722\teval-logloss:0.25035\n",
      "[21]\ttrain-logloss:0.14290\teval-logloss:0.24734\n",
      "[22]\ttrain-logloss:0.13782\teval-logloss:0.24612\n",
      "[23]\ttrain-logloss:0.13362\teval-logloss:0.24387\n",
      "[24]\ttrain-logloss:0.13047\teval-logloss:0.24251\n",
      "[25]\ttrain-logloss:0.12654\teval-logloss:0.24094\n",
      "[26]\ttrain-logloss:0.12268\teval-logloss:0.24005\n",
      "[27]\ttrain-logloss:0.11966\teval-logloss:0.23803\n",
      "[28]\ttrain-logloss:0.11506\teval-logloss:0.23699\n",
      "[29]\ttrain-logloss:0.11027\teval-logloss:0.23626\n",
      "[30]\ttrain-logloss:0.10827\teval-logloss:0.23621\n",
      "[31]\ttrain-logloss:0.10262\teval-logloss:0.23269\n",
      "[32]\ttrain-logloss:0.10062\teval-logloss:0.23212\n",
      "[33]\ttrain-logloss:0.09913\teval-logloss:0.23180\n",
      "[34]\ttrain-logloss:0.09582\teval-logloss:0.23184\n",
      "[35]\ttrain-logloss:0.09378\teval-logloss:0.22998\n",
      "[36]\ttrain-logloss:0.09243\teval-logloss:0.22980\n",
      "[37]\ttrain-logloss:0.08952\teval-logloss:0.22913\n",
      "[38]\ttrain-logloss:0.08732\teval-logloss:0.22870\n",
      "[39]\ttrain-logloss:0.08576\teval-logloss:0.22786\n",
      "[40]\ttrain-logloss:0.08340\teval-logloss:0.22857\n",
      "[41]\ttrain-logloss:0.08125\teval-logloss:0.22695\n",
      "[42]\ttrain-logloss:0.08027\teval-logloss:0.22646\n",
      "[43]\ttrain-logloss:0.07829\teval-logloss:0.22660\n",
      "[44]\ttrain-logloss:0.07616\teval-logloss:0.22607\n",
      "[45]\ttrain-logloss:0.07522\teval-logloss:0.22499\n",
      "[46]\ttrain-logloss:0.07313\teval-logloss:0.22316\n",
      "[47]\ttrain-logloss:0.07198\teval-logloss:0.22293\n",
      "[48]\ttrain-logloss:0.07026\teval-logloss:0.22265\n",
      "[49]\ttrain-logloss:0.06948\teval-logloss:0.22226\n",
      "0.22226432123124226\n"
     ]
    }
   ],
   "source": [
    "# カスタム目的関数（この場合はloglossであり、xgboostの'binary:logistic'と等価）\n",
    "def logregobj(preds, dtrain):\n",
    "    labels = dtrain.get_label()  # 真の値のラベルを取得\n",
    "    preds = 1.0 / (1.0 + np.exp(-preds))  # シグモイド関数\n",
    "    grad = preds - labels  # 勾配\n",
    "    hess = preds * (1.0 - preds)  # 二階微分値\n",
    "    return grad, hess\n",
    "\n",
    "\n",
    "# カスタム評価指標（この場合は誤答率）\n",
    "def evalerror(preds, dtrain):\n",
    "    labels = dtrain.get_label()  # 真の値のラベルを取得\n",
    "    return 'custom-error', float(sum(labels != (preds > 0.0))) / len(labels)\n",
    "\n",
    "\n",
    "# ハイパーパラメータの設定\n",
    "params = {'silent': 1, 'random_state': 71}\n",
    "num_round = 50\n",
    "watchlist = [(dtrain, 'train'), (dvalid, 'eval')]\n",
    "\n",
    "# モデルの学習の実行\n",
    "bst = xgb.train(params, dtrain, num_round, watchlist, obj=logregobj, feval=evalerror)\n",
    "\n",
    "# 目的関数にbinary:logisticを指定したときと違い、確率に変換する前の値で予測値が出力されるので変換が必要\n",
    "pred_val = bst.predict(dvalid)\n",
    "pred = 1.0 / (1.0 + np.exp(-pred_val))\n",
    "logloss = log_loss(va_y, pred)\n",
    "print(logloss)\n",
    "\n",
    "# （参考）通常の方法で学習を行う場合\n",
    "params = {'silent': 1, 'random_state': 71, 'objective': 'binary:logistic'}\n",
    "bst = xgb.train(params, dtrain, num_round, watchlist)\n",
    "\n",
    "pred = bst.predict(dvalid)\n",
    "logloss = log_loss(va_y, pred)\n",
    "print(logloss)"
   ]
  }
 ],
 "metadata": {
  "kernelspec": {
   "display_name": ".venv",
   "language": "python",
   "name": "python3"
  },
  "language_info": {
   "codemirror_mode": {
    "name": "ipython",
    "version": 3
   },
   "file_extension": ".py",
   "mimetype": "text/x-python",
   "name": "python",
   "nbconvert_exporter": "python",
   "pygments_lexer": "ipython3",
   "version": "3.11.3"
  },
  "orig_nbformat": 4
 },
 "nbformat": 4,
 "nbformat_minor": 2
}
