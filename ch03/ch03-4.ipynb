{
 "cells": [
  {
   "cell_type": "markdown",
   "metadata": {},
   "source": [
    "## 3.11 次元削減，教師なし学習による特徴量抽出"
   ]
  },
  {
   "cell_type": "markdown",
   "metadata": {},
   "source": [
    "### 3.11.1 主成分分析"
   ]
  },
  {
   "cell_type": "code",
   "execution_count": 1,
   "metadata": {},
   "outputs": [],
   "source": [
    "import numpy as np\n",
    "import pandas as pd"
   ]
  },
  {
   "cell_type": "code",
   "execution_count": 2,
   "metadata": {},
   "outputs": [],
   "source": [
    "# train_xは学習データ、train_yは目的変数、test_xはテストデータ\n",
    "# pandasのDataFrame, Seriesで保持します。（numpyのarrayで保持することもあります）\n",
    "\n",
    "train = pd.read_csv('../input/sample-data/train_preprocessed_onehot.csv')\n",
    "train_x = train.drop(['target'], axis=1)\n",
    "train_y = train['target']\n",
    "test_x = pd.read_csv('../input/sample-data/test_preprocessed_onehot.csv')"
   ]
  },
  {
   "cell_type": "code",
   "execution_count": 3,
   "metadata": {},
   "outputs": [],
   "source": [
    "# 説明用に学習データとテストデータの元の状態を保存しておく\n",
    "train_x_saved = train_x.copy()\n",
    "test_x_saved = test_x.copy()\n",
    "\n",
    "from sklearn.preprocessing import StandardScaler, MinMaxScaler"
   ]
  },
  {
   "cell_type": "code",
   "execution_count": 4,
   "metadata": {},
   "outputs": [],
   "source": [
    "# 標準化を行った学習データとテストデータを返す関数\n",
    "def load_standarized_data():\n",
    "    train_x, test_x = train_x_saved.copy(), test_x_saved.copy()\n",
    "\n",
    "    scaler = StandardScaler()\n",
    "    scaler.fit(train_x)\n",
    "    train_x = scaler.transform(train_x)\n",
    "    test_x = scaler.transform(test_x)\n",
    "    return pd.DataFrame(train_x), pd.DataFrame(test_x)"
   ]
  },
  {
   "cell_type": "code",
   "execution_count": 5,
   "metadata": {},
   "outputs": [],
   "source": [
    "# MinMaxスケーリングを行った学習データとテストデータを返す関数\n",
    "def load_minmax_scaled_data():\n",
    "    train_x, test_x = train_x_saved.copy(), test_x_saved.copy()\n",
    "\n",
    "    # Min-Max Scalingを行う\n",
    "    scaler = MinMaxScaler()\n",
    "    scaler.fit(pd.concat([train_x, test_x], axis=0))\n",
    "    train_x = scaler.transform(train_x)\n",
    "    test_x = scaler.transform(test_x)\n",
    "\n",
    "    return pd.DataFrame(train_x), pd.DataFrame(test_x)"
   ]
  },
  {
   "cell_type": "markdown",
   "metadata": {},
   "source": [
    "PCA"
   ]
  },
  {
   "cell_type": "code",
   "execution_count": 6,
   "metadata": {},
   "outputs": [],
   "source": [
    "# 標準化されたデータを用いる\n",
    "train_x, test_x = load_standarized_data()"
   ]
  },
  {
   "cell_type": "code",
   "execution_count": 7,
   "metadata": {},
   "outputs": [],
   "source": [
    "# PCA\n",
    "from sklearn.decomposition import PCA\n",
    "\n",
    "# データは標準化などのスケールを揃える前処理が行われているものとする\n",
    "\n",
    "# 学習データに基づいてPCAによる変換を定義\n",
    "pca = PCA(n_components=5)\n",
    "pca.fit(train_x)\n",
    "\n",
    "# 変換の適用\n",
    "train_x = pca.transform(train_x)\n",
    "test_x = pca.transform(test_x)"
   ]
  },
  {
   "cell_type": "code",
   "execution_count": 8,
   "metadata": {},
   "outputs": [],
   "source": [
    "# 標準化されたデータを用いる\n",
    "train_x, test_x = load_standarized_data()\n",
    "# -----------------------------------\n",
    "# TruncatedSVD\n",
    "from sklearn.decomposition import TruncatedSVD\n",
    "\n",
    "# データは標準化などのスケールを揃える前処理が行われているものとする\n",
    "\n",
    "# 学習データに基づいてSVDによる変換を定義\n",
    "svd = TruncatedSVD(n_components=5, random_state=71)\n",
    "svd.fit(train_x)\n",
    "\n",
    "# 変換の適用\n",
    "train_x = svd.transform(train_x)\n",
    "test_x = svd.transform(test_x)"
   ]
  },
  {
   "cell_type": "markdown",
   "metadata": {},
   "source": [
    "### 3.11.2 非負値行列因子分解(NMF)"
   ]
  },
  {
   "cell_type": "code",
   "execution_count": 9,
   "metadata": {},
   "outputs": [],
   "source": [
    "# 非負の値とするため、MinMaxスケーリングを行ったデータを用いる\n",
    "train_x, test_x = load_minmax_scaled_data()\n",
    "# -----------------------------------\n",
    "from sklearn.decomposition import NMF\n",
    "\n",
    "# データは非負の値から構成されているとする\n",
    "\n",
    "# 学習データに基づいてNMFによる変換を定義\n",
    "model = NMF(n_components=5, init='random', random_state=71)\n",
    "model.fit(train_x)\n",
    "\n",
    "# 変換の適用\n",
    "train_x = model.transform(train_x)\n",
    "test_x = model.transform(test_x)"
   ]
  },
  {
   "cell_type": "markdown",
   "metadata": {},
   "source": [
    "### 3.11.3 Latest Dirichlet Allocation(LDA)"
   ]
  }
 ],
 "metadata": {
  "kernelspec": {
   "display_name": ".venv",
   "language": "python",
   "name": "python3"
  },
  "language_info": {
   "codemirror_mode": {
    "name": "ipython",
    "version": 3
   },
   "file_extension": ".py",
   "mimetype": "text/x-python",
   "name": "python",
   "nbconvert_exporter": "python",
   "pygments_lexer": "ipython3",
   "version": "3.11.3"
  },
  "orig_nbformat": 4
 },
 "nbformat": 4,
 "nbformat_minor": 2
}
