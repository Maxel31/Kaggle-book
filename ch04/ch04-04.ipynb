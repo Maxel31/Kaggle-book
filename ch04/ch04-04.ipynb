{
 "cells": [
  {
   "cell_type": "markdown",
   "metadata": {},
   "source": [
    "## 4.4 ニューラルネット"
   ]
  },
  {
   "cell_type": "code",
   "execution_count": 1,
   "metadata": {},
   "outputs": [],
   "source": [
    "import numpy as np\n",
    "import pandas as pd\n",
    "\n",
    "# train_xは学習データ、train_yは目的変数、test_xはテストデータ\n",
    "# pandasのDataFrame, Seriesで保持します。（numpyのarrayで保持することもあります）\n",
    "# one-hot encodingされたものを読み込む\n",
    "\n",
    "train = pd.read_csv('../input/sample-data/train_preprocessed_onehot.csv')\n",
    "train_x = train.drop(['target'], axis=1)\n",
    "train_y = train['target']\n",
    "test_x = pd.read_csv('../input/sample-data/test_preprocessed_onehot.csv')"
   ]
  },
  {
   "cell_type": "code",
   "execution_count": 2,
   "metadata": {},
   "outputs": [],
   "source": [
    "# 学習データを学習データとバリデーションデータに分ける\n",
    "from sklearn.model_selection import KFold\n",
    "\n",
    "kf = KFold(n_splits=4, shuffle=True, random_state=71)\n",
    "tr_idx, va_idx = list(kf.split(train_x))[0]\n",
    "tr_x, va_x = train_x.iloc[tr_idx], train_x.iloc[va_idx]\n",
    "tr_y, va_y = train_y.iloc[tr_idx], train_y.iloc[va_idx]"
   ]
  },
  {
   "cell_type": "code",
   "execution_count": 5,
   "metadata": {},
   "outputs": [
    {
     "name": "stderr",
     "output_type": "stream",
     "text": [
      "2023-08-28 17:26:20.431178: W tensorflow/compiler/tf2tensorrt/utils/py_utils.cc:38] TF-TRT Warning: Could not find TensorRT\n"
     ]
    }
   ],
   "source": [
    "# tensorflowの警告抑制\n",
    "import os\n",
    "os.environ['TF_CPP_MIN_LOG_LEVEL'] = '1'\n",
    "import tensorflow as tf\n",
    "tf.compat.v1.logging.set_verbosity(tf.compat.v1.logging.ERROR)"
   ]
  },
  {
   "cell_type": "code",
   "execution_count": 6,
   "metadata": {},
   "outputs": [
    {
     "name": "stdout",
     "output_type": "stream",
     "text": [
      "Epoch 1/10\n",
      "59/59 [==============================] - 1s 9ms/step - loss: 0.4457 - accuracy: 0.8187 - val_loss: 0.3874 - val_accuracy: 0.8504\n",
      "Epoch 2/10\n",
      "59/59 [==============================] - 0s 7ms/step - loss: 0.3618 - accuracy: 0.8576 - val_loss: 0.3775 - val_accuracy: 0.8480\n",
      "Epoch 3/10\n",
      "59/59 [==============================] - 0s 5ms/step - loss: 0.3422 - accuracy: 0.8616 - val_loss: 0.3711 - val_accuracy: 0.8564\n",
      "Epoch 4/10\n",
      "59/59 [==============================] - 0s 6ms/step - loss: 0.3216 - accuracy: 0.8729 - val_loss: 0.3638 - val_accuracy: 0.8524\n",
      "Epoch 5/10\n",
      "59/59 [==============================] - 0s 6ms/step - loss: 0.3002 - accuracy: 0.8791 - val_loss: 0.3515 - val_accuracy: 0.8596\n",
      "Epoch 6/10\n",
      "59/59 [==============================] - 0s 6ms/step - loss: 0.2775 - accuracy: 0.8911 - val_loss: 0.3409 - val_accuracy: 0.8560\n",
      "Epoch 7/10\n",
      "59/59 [==============================] - 0s 6ms/step - loss: 0.2491 - accuracy: 0.8991 - val_loss: 0.3240 - val_accuracy: 0.8608\n",
      "Epoch 8/10\n",
      "59/59 [==============================] - 0s 6ms/step - loss: 0.2224 - accuracy: 0.9071 - val_loss: 0.3137 - val_accuracy: 0.8728\n",
      "Epoch 9/10\n",
      "59/59 [==============================] - 0s 6ms/step - loss: 0.2052 - accuracy: 0.9145 - val_loss: 0.2933 - val_accuracy: 0.8776\n",
      "Epoch 10/10\n",
      "59/59 [==============================] - 0s 6ms/step - loss: 0.1891 - accuracy: 0.9220 - val_loss: 0.2978 - val_accuracy: 0.8792\n",
      "79/79 [==============================] - 0s 2ms/step\n",
      "logloss: 0.2978\n",
      " 51/313 [===>..........................] - ETA: 0s"
     ]
    },
    {
     "name": "stderr",
     "output_type": "stream",
     "text": [
      "/home/shion31/dev/kaggle-book/.venv/lib/python3.11/site-packages/sklearn/metrics/_classification.py:2845: FutureWarning: Setting the eps parameter is deprecated and will be removed in 1.5. Instead eps will always havea default value of `np.finfo(y_pred.dtype).eps`.\n",
      "  warnings.warn(\n"
     ]
    },
    {
     "name": "stdout",
     "output_type": "stream",
     "text": [
      "313/313 [==============================] - 1s 2ms/step\n"
     ]
    }
   ],
   "source": [
    "# -----------------------------------\n",
    "# ニューラルネットの実装\n",
    "# -----------------------------------\n",
    "from keras.layers import Dense, Dropout\n",
    "from keras.models import Sequential\n",
    "from sklearn.metrics import log_loss\n",
    "from sklearn.preprocessing import StandardScaler\n",
    "\n",
    "# データのスケーリング\n",
    "scaler = StandardScaler()\n",
    "tr_x = scaler.fit_transform(tr_x)\n",
    "va_x = scaler.transform(va_x)\n",
    "test_x = scaler.transform(test_x)\n",
    "\n",
    "# ニューラルネットモデルの構築\n",
    "model = Sequential()\n",
    "model.add(Dense(256, activation='relu', input_shape=(train_x.shape[1],)))\n",
    "model.add(Dropout(0.2))\n",
    "model.add(Dense(256, activation='relu'))\n",
    "model.add(Dropout(0.2))\n",
    "model.add(Dense(1, activation='sigmoid'))\n",
    "\n",
    "model.compile(loss='binary_crossentropy',\n",
    "              optimizer='adam', metrics=['accuracy'])\n",
    "\n",
    "# 学習の実行\n",
    "# バリデーションデータもモデルに渡し、学習の進行とともにスコアがどう変わるかモニタリングする\n",
    "batch_size = 128\n",
    "epochs = 10\n",
    "history = model.fit(tr_x, tr_y,\n",
    "                    batch_size=batch_size, epochs=epochs,\n",
    "                    verbose=1, validation_data=(va_x, va_y))\n",
    "\n",
    "# バリデーションデータでのスコアの確認\n",
    "va_pred = model.predict(va_x)\n",
    "score = log_loss(va_y, va_pred, eps=1e-7)\n",
    "print(f'logloss: {score:.4f}')\n",
    "\n",
    "# 予測\n",
    "pred = model.predict(test_x)"
   ]
  },
  {
   "cell_type": "code",
   "execution_count": 7,
   "metadata": {},
   "outputs": [
    {
     "name": "stdout",
     "output_type": "stream",
     "text": [
      "Epoch 1/50\n",
      "59/59 [==============================] - 0s 8ms/step - loss: 0.1741 - accuracy: 0.9285 - val_loss: 0.3008 - val_accuracy: 0.8788\n",
      "Epoch 2/50\n",
      "59/59 [==============================] - 0s 6ms/step - loss: 0.1652 - accuracy: 0.9331 - val_loss: 0.3040 - val_accuracy: 0.8780\n",
      "Epoch 3/50\n",
      "59/59 [==============================] - 0s 6ms/step - loss: 0.1516 - accuracy: 0.9380 - val_loss: 0.3099 - val_accuracy: 0.8736\n",
      "Epoch 4/50\n",
      "59/59 [==============================] - 0s 6ms/step - loss: 0.1450 - accuracy: 0.9405 - val_loss: 0.3110 - val_accuracy: 0.8780\n",
      "Epoch 5/50\n",
      "59/59 [==============================] - 0s 6ms/step - loss: 0.1395 - accuracy: 0.9431 - val_loss: 0.3270 - val_accuracy: 0.8792\n",
      "Epoch 6/50\n",
      "59/59 [==============================] - 0s 6ms/step - loss: 0.1308 - accuracy: 0.9468 - val_loss: 0.3042 - val_accuracy: 0.8788\n",
      "Epoch 7/50\n",
      "59/59 [==============================] - 0s 6ms/step - loss: 0.1212 - accuracy: 0.9501 - val_loss: 0.3162 - val_accuracy: 0.8828\n",
      "Epoch 8/50\n",
      "59/59 [==============================] - 0s 6ms/step - loss: 0.1179 - accuracy: 0.9536 - val_loss: 0.3249 - val_accuracy: 0.8808\n",
      "Epoch 9/50\n",
      "59/59 [==============================] - 0s 6ms/step - loss: 0.1077 - accuracy: 0.9577 - val_loss: 0.3153 - val_accuracy: 0.8836\n",
      "Epoch 10/50\n",
      "59/59 [==============================] - 0s 6ms/step - loss: 0.1033 - accuracy: 0.9612 - val_loss: 0.3163 - val_accuracy: 0.8812\n",
      "Epoch 11/50\n",
      "59/59 [==============================] - 0s 7ms/step - loss: 0.0983 - accuracy: 0.9609 - val_loss: 0.3526 - val_accuracy: 0.8784\n",
      "Epoch 12/50\n",
      "59/59 [==============================] - 0s 6ms/step - loss: 0.0908 - accuracy: 0.9640 - val_loss: 0.3277 - val_accuracy: 0.8784\n",
      "Epoch 13/50\n",
      "59/59 [==============================] - 0s 6ms/step - loss: 0.0870 - accuracy: 0.9663 - val_loss: 0.3445 - val_accuracy: 0.8792\n",
      "Epoch 14/50\n",
      "59/59 [==============================] - 0s 6ms/step - loss: 0.0826 - accuracy: 0.9683 - val_loss: 0.3402 - val_accuracy: 0.8820\n",
      "Epoch 15/50\n",
      "59/59 [==============================] - 0s 6ms/step - loss: 0.0801 - accuracy: 0.9709 - val_loss: 0.3554 - val_accuracy: 0.8788\n",
      "Epoch 16/50\n",
      "59/59 [==============================] - 0s 6ms/step - loss: 0.0850 - accuracy: 0.9683 - val_loss: 0.3472 - val_accuracy: 0.8808\n",
      "Epoch 17/50\n",
      "59/59 [==============================] - 0s 6ms/step - loss: 0.0710 - accuracy: 0.9757 - val_loss: 0.3642 - val_accuracy: 0.8772\n",
      "Epoch 18/50\n",
      "59/59 [==============================] - 0s 6ms/step - loss: 0.0738 - accuracy: 0.9707 - val_loss: 0.3594 - val_accuracy: 0.8820\n",
      "Epoch 19/50\n",
      "59/59 [==============================] - 0s 5ms/step - loss: 0.0655 - accuracy: 0.9775 - val_loss: 0.3775 - val_accuracy: 0.8808\n",
      "Epoch 20/50\n",
      "59/59 [==============================] - 0s 6ms/step - loss: 0.0707 - accuracy: 0.9727 - val_loss: 0.3598 - val_accuracy: 0.8832\n",
      "Epoch 21/50\n",
      "59/59 [==============================] - 0s 6ms/step - loss: 0.0656 - accuracy: 0.9760 - val_loss: 0.3918 - val_accuracy: 0.8788\n",
      "313/313 [==============================] - 1s 2ms/step\n"
     ]
    }
   ],
   "source": [
    "# -----------------------------------\n",
    "# アーリーストッピング\n",
    "# -----------------------------------\n",
    "from keras.callbacks import EarlyStopping\n",
    "\n",
    "# アーリーストッピングの観察するroundを20とする\n",
    "# restore_best_weightsを設定することで、最適なエポックでのモデルを使用する\n",
    "epochs = 50\n",
    "early_stopping = EarlyStopping(monitor='val_loss', patience=20, restore_best_weights=True)\n",
    "\n",
    "history = model.fit(tr_x, tr_y,\n",
    "                    batch_size=batch_size, epochs=epochs,\n",
    "                    verbose=1, validation_data=(va_x, va_y), callbacks=[early_stopping])\n",
    "pred = model.predict(test_x)"
   ]
  }
 ],
 "metadata": {
  "kernelspec": {
   "display_name": "Python 3",
   "language": "python",
   "name": "python3"
  },
  "language_info": {
   "codemirror_mode": {
    "name": "ipython",
    "version": 3
   },
   "file_extension": ".py",
   "mimetype": "text/x-python",
   "name": "python",
   "nbconvert_exporter": "python",
   "pygments_lexer": "ipython3",
   "version": "3.11.3"
  },
  "orig_nbformat": 4
 },
 "nbformat": 4,
 "nbformat_minor": 2
}
