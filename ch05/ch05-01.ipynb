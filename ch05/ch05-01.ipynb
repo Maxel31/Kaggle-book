{
 "cells": [
  {
   "cell_type": "markdown",
   "metadata": {},
   "source": [
    "## 5.2 バリデーションの手法"
   ]
  },
  {
   "cell_type": "code",
   "execution_count": 1,
   "metadata": {},
   "outputs": [],
   "source": [
    "import numpy as np\n",
    "import pandas as pd\n",
    "\n",
    "# train_xは学習データ、train_yは目的変数、test_xはテストデータ\n",
    "# pandasのDataFrame, Seriesで保持します。（numpyのarrayで保持することもあります）\n",
    "\n",
    "train = pd.read_csv('../input/sample-data/train_preprocessed.csv')\n",
    "train_x = train.drop(['target'], axis=1)\n",
    "train_y = train['target']\n",
    "test_x = pd.read_csv('../input/sample-data/test_preprocessed.csv')\n",
    "\n",
    "# xgboostによる学習・予測を行うクラス\n",
    "import xgboost as xgb\n",
    "\n",
    "\n",
    "class Model:\n",
    "\n",
    "    def __init__(self, params=None):\n",
    "        self.model = None\n",
    "        if params is None:\n",
    "            self.params = {}\n",
    "        else:\n",
    "            self.params = params\n",
    "\n",
    "    def fit(self, tr_x, tr_y, va_x, va_y):\n",
    "        params = {'objective': 'binary:logistic', 'silent': 1, 'random_state': 71}\n",
    "        params.update(self.params)\n",
    "        num_round = 10\n",
    "        dtrain = xgb.DMatrix(tr_x, label=tr_y)\n",
    "        dvalid = xgb.DMatrix(va_x, label=va_y)\n",
    "        watchlist = [(dtrain, 'train'), (dvalid, 'eval')]\n",
    "        self.model = xgb.train(params, dtrain, num_round, evals=watchlist)\n",
    "\n",
    "    def predict(self, x):\n",
    "        data = xgb.DMatrix(x)\n",
    "        pred = self.model.predict(data)\n",
    "        return pred"
   ]
  },
  {
   "cell_type": "markdown",
   "metadata": {},
   "source": [
    "### 5.2.1 hold-out法"
   ]
  },
  {
   "cell_type": "code",
   "execution_count": 2,
   "metadata": {},
   "outputs": [
    {
     "ename": "ModuleNotFoundError",
     "evalue": "No module named 'sklearn'",
     "output_type": "error",
     "traceback": [
      "\u001b[0;31m---------------------------------------------------------------------------\u001b[0m",
      "\u001b[0;31mModuleNotFoundError\u001b[0m                       Traceback (most recent call last)",
      "\u001b[1;32m/home/sfukuhata/dev/kaggle-book/ch05/ch05-01.ipynb セル 4\u001b[0m line \u001b[0;36m3\n\u001b[1;32m      <a href='vscode-notebook-cell://ssh-remote%2Blyria/home/sfukuhata/dev/kaggle-book/ch05/ch05-01.ipynb#W4sdnNjb2RlLXJlbW90ZQ%3D%3D?line=0'>1</a>\u001b[0m \u001b[39m# hold-out法でのバリデーションデータの分割\u001b[39;00m\n\u001b[0;32m----> <a href='vscode-notebook-cell://ssh-remote%2Blyria/home/sfukuhata/dev/kaggle-book/ch05/ch05-01.ipynb#W4sdnNjb2RlLXJlbW90ZQ%3D%3D?line=2'>3</a>\u001b[0m \u001b[39mfrom\u001b[39;00m \u001b[39msklearn\u001b[39;00m\u001b[39m.\u001b[39;00m\u001b[39mmodel_selection\u001b[39;00m \u001b[39mimport\u001b[39;00m train_test_split\n\u001b[1;32m      <a href='vscode-notebook-cell://ssh-remote%2Blyria/home/sfukuhata/dev/kaggle-book/ch05/ch05-01.ipynb#W4sdnNjb2RlLXJlbW90ZQ%3D%3D?line=4'>5</a>\u001b[0m \u001b[39m# train_test_split関数を用いてhold-out法で分割する\u001b[39;00m\n\u001b[1;32m      <a href='vscode-notebook-cell://ssh-remote%2Blyria/home/sfukuhata/dev/kaggle-book/ch05/ch05-01.ipynb#W4sdnNjb2RlLXJlbW90ZQ%3D%3D?line=5'>6</a>\u001b[0m tr_x, va_x, tr_y, va_y \u001b[39m=\u001b[39m train_test_split(train_x, train_y,\n\u001b[1;32m      <a href='vscode-notebook-cell://ssh-remote%2Blyria/home/sfukuhata/dev/kaggle-book/ch05/ch05-01.ipynb#W4sdnNjb2RlLXJlbW90ZQ%3D%3D?line=6'>7</a>\u001b[0m                                           test_size\u001b[39m=\u001b[39m\u001b[39m0.25\u001b[39m, random_state\u001b[39m=\u001b[39m\u001b[39m71\u001b[39m, shuffle\u001b[39m=\u001b[39m\u001b[39mTrue\u001b[39;00m)\n",
      "\u001b[0;31mModuleNotFoundError\u001b[0m: No module named 'sklearn'"
     ]
    }
   ],
   "source": [
    "# hold-out法でのバリデーションデータの分割\n",
    "\n",
    "from sklearn.model_selection import train_test_split\n",
    "\n",
    "# train_test_split関数を用いてhold-out法で分割する\n",
    "tr_x, va_x, tr_y, va_y = train_test_split(train_x, train_y,\n",
    "                                          test_size=0.25, random_state=71, shuffle=True)\n",
    "\n",
    "# -----------------------------------\n",
    "# hold-out法でバリデーションを行う\n",
    "\n",
    "from sklearn.metrics import log_loss\n",
    "from sklearn.model_selection import train_test_split\n",
    "\n",
    "# Modelクラスを定義しているものとする\n",
    "# Modelクラスは、fitで学習し、predictで予測値の確率を出力する\n",
    "\n",
    "# train_test_split関数を用いてhold-out法で分割する\n",
    "tr_x, va_x, tr_y, va_y = train_test_split(train_x, train_y,\n",
    "                                          test_size=0.25, random_state=71, shuffle=True)\n",
    "\n",
    "# 学習の実行、バリデーションデータの予測値の出力、スコアの計算を行う\n",
    "model = Model()\n",
    "model.fit(tr_x, tr_y, va_x, va_y)\n",
    "va_pred = model.predict(va_x)\n",
    "score = log_loss(va_y, va_pred)\n",
    "print(score)\n",
    "\n",
    "# -----------------------------------\n",
    "# KFoldクラスを用いてhold-out法でバリデーションデータを分割\n",
    "\n",
    "from sklearn.model_selection import KFold\n",
    "\n",
    "# KFoldクラスを用いてhold-out法で分割する\n",
    "kf = KFold(n_splits=4, shuffle=True, random_state=71)\n",
    "tr_idx, va_idx = list(kf.split(train_x))[0]\n",
    "tr_x, va_x = train_x.iloc[tr_idx], train_x.iloc[va_idx]\n",
    "tr_y, va_y = train_y.iloc[tr_idx], train_y.iloc[va_idx]\n"
   ]
  },
  {
   "cell_type": "markdown",
   "metadata": {},
   "source": [
    "### 5.2.2 クロスバリデーション"
   ]
  },
  {
   "cell_type": "code",
   "execution_count": null,
   "metadata": {},
   "outputs": [],
   "source": [
    "# クロスバリデーションでのデータの分割\n",
    "\n",
    "from sklearn.model_selection import KFold\n",
    "\n",
    "# KFoldクラスを用いてクロスバリデーションの分割を行う\n",
    "kf = KFold(n_splits=4, shuffle=True, random_state=71)\n",
    "for tr_idx, va_idx in kf.split(train_x):\n",
    "    tr_x, va_x = train_x.iloc[tr_idx], train_x.iloc[va_idx]\n",
    "    tr_y, va_y = train_y.iloc[tr_idx], train_y.iloc[va_idx]\n",
    "\n",
    "# -----------------------------------\n",
    "# クロスバリデーションを行う\n",
    "\n",
    "from sklearn.metrics import log_loss\n",
    "from sklearn.model_selection import KFold\n",
    "\n",
    "# Modelクラスを定義しているものとする\n",
    "# Modelクラスは、fitで学習し、predictで予測値の確率を出力する\n",
    "\n",
    "scores = []\n",
    "\n",
    "# KFoldクラスを用いてクロスバリデーションの分割を行う\n",
    "kf = KFold(n_splits=4, shuffle=True, random_state=71)\n",
    "for tr_idx, va_idx in kf.split(train_x):\n",
    "    tr_x, va_x = train_x.iloc[tr_idx], train_x.iloc[va_idx]\n",
    "    tr_y, va_y = train_y.iloc[tr_idx], train_y.iloc[va_idx]\n",
    "\n",
    "    # 学習の実行、バリデーションデータの予測値の出力、スコアの計算を行う\n",
    "    model = Model()\n",
    "    model.fit(tr_x, tr_y, va_x, va_y)\n",
    "    va_pred = model.predict(va_x)\n",
    "    score = log_loss(va_y, va_pred)\n",
    "    scores.append(score)\n",
    "\n",
    "# 各foldのスコアの平均をとる\n",
    "print(np.mean(scores))"
   ]
  },
  {
   "cell_type": "markdown",
   "metadata": {},
   "source": [
    "### 5.2.3 stratified k-fold"
   ]
  },
  {
   "cell_type": "code",
   "execution_count": null,
   "metadata": {},
   "outputs": [],
   "source": [
    "from sklearn.model_selection import StratifiedKFold\n",
    "\n",
    "# StratifiedKFoldクラスを用いて層化抽出による分割を行う\n",
    "kf = StratifiedKFold(n_splits=4, shuffle=True, random_state=71)\n",
    "for tr_idx, va_idx in kf.split(train_x, train_y):\n",
    "    tr_x, va_x = train_x.iloc[tr_idx], train_x.iloc[va_idx]\n",
    "    tr_y, va_y = train_y.iloc[tr_idx], train_y.iloc[va_idx]\n"
   ]
  },
  {
   "cell_type": "markdown",
   "metadata": {},
   "source": [
    "### 5.2.4 Group k-fold"
   ]
  },
  {
   "cell_type": "code",
   "execution_count": null,
   "metadata": {},
   "outputs": [],
   "source": [
    "# 4件ずつ同じユーザーがいるデータであったとする\n",
    "train_x['user_id'] = np.arange(0, len(train_x)) // 4\n",
    "# -----------------------------------\n",
    "\n",
    "from sklearn.model_selection import KFold, GroupKFold\n",
    "\n",
    "# user_id列の顧客IDを単位として分割することにする\n",
    "user_id = train_x['user_id']\n",
    "unique_user_ids = user_id.unique()\n",
    "\n",
    "# KFoldクラスを用いて、顧客ID単位で分割する\n",
    "scores = []\n",
    "kf = KFold(n_splits=4, shuffle=True, random_state=71)\n",
    "for tr_group_idx, va_group_idx in kf.split(unique_user_ids):\n",
    "    # 顧客IDをtrain/valid（学習に使うデータ、バリデーションデータ）に分割する\n",
    "    tr_groups, va_groups = unique_user_ids[tr_group_idx], unique_user_ids[va_group_idx]\n",
    "\n",
    "    # 各レコードの顧客IDがtrain/validのどちらに属しているかによって分割する\n",
    "    is_tr = user_id.isin(tr_groups)\n",
    "    is_va = user_id.isin(va_groups)\n",
    "    tr_x, va_x = train_x[is_tr], train_x[is_va]\n",
    "    tr_y, va_y = train_y[is_tr], train_y[is_va]\n",
    "\n",
    "# （参考）GroupKFoldクラスではシャッフルと乱数シードの指定ができないため使いづらい\n",
    "kf = GroupKFold(n_splits=4)\n",
    "for tr_idx, va_idx in kf.split(train_x, train_y, user_id):\n",
    "    tr_x, va_x = train_x.iloc[tr_idx], train_x.iloc[va_idx]\n",
    "    tr_y, va_y = train_y.iloc[tr_idx], train_y.iloc[va_idx]"
   ]
  },
  {
   "cell_type": "markdown",
   "metadata": {},
   "source": [
    "### 5.2.5 Leave-one-out"
   ]
  },
  {
   "cell_type": "code",
   "execution_count": null,
   "metadata": {},
   "outputs": [],
   "source": [
    "# データが100件しかないものとする\n",
    "train_x = train_x.iloc[:100, :].copy()\n",
    "# -----------------------------------\n",
    "from sklearn.model_selection import LeaveOneOut\n",
    "\n",
    "loo = LeaveOneOut()\n",
    "for tr_idx, va_idx in loo.split(train_x):\n",
    "    tr_x, va_x = train_x.iloc[tr_idx], train_x.iloc[va_idx]\n",
    "    tr_y, va_y = train_y.iloc[tr_idx], train_y.iloc[va_idx]"
   ]
  }
 ],
 "metadata": {
  "kernelspec": {
   "display_name": ".venv",
   "language": "python",
   "name": "python3"
  },
  "language_info": {
   "codemirror_mode": {
    "name": "ipython",
    "version": 3
   },
   "file_extension": ".py",
   "mimetype": "text/x-python",
   "name": "python",
   "nbconvert_exporter": "python",
   "pygments_lexer": "ipython3",
   "version": "3.11.5"
  },
  "orig_nbformat": 4
 },
 "nbformat": 4,
 "nbformat_minor": 2
}
