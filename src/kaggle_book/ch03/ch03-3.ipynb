{
 "cells": [
  {
   "cell_type": "markdown",
   "metadata": {},
   "source": [
    "## 3.10 時系列データの扱い"
   ]
  },
  {
   "cell_type": "markdown",
   "metadata": {},
   "source": [
    "### 3.10.3 ワイドフォーマットとロングフォーマット"
   ]
  },
  {
   "cell_type": "code",
   "execution_count": 1,
   "metadata": {},
   "outputs": [],
   "source": [
    "import numpy as np\n",
    "import pandas as pd"
   ]
  },
  {
   "cell_type": "code",
   "execution_count": 2,
   "metadata": {},
   "outputs": [],
   "source": [
    "# ワイドフォーマットのデータを読み込む\n",
    "df_wide = pd.read_csv('../input/ch03/time_series_wide.csv', index_col=0)\n",
    "# インデックスの型を日付型に変更する\n",
    "df_wide.index = pd.to_datetime(df_wide.index)"
   ]
  },
  {
   "cell_type": "code",
   "execution_count": 3,
   "metadata": {},
   "outputs": [
    {
     "name": "stdout",
     "output_type": "stream",
     "text": [
      "              A     B     C\n",
      "2016-07-01  532  3314  1136\n",
      "2016-07-02  798  2461  1188\n",
      "2016-07-03  823  3522  1711\n",
      "2016-07-04  937  5451  1977\n",
      "2016-07-05  881  4729  1975\n"
     ]
    }
   ],
   "source": [
    "print(df_wide.iloc[:5, :3])"
   ]
  },
  {
   "cell_type": "markdown",
   "metadata": {},
   "source": [
    "### 3.10.4 ラグ特徴量"
   ]
  },
  {
   "cell_type": "code",
   "execution_count": 4,
   "metadata": {},
   "outputs": [],
   "source": [
    "# ワイドフォーマットのデータをセットする\n",
    "x = df_wide\n",
    "# -----------------------------------\n",
    "# xはワイドフォーマットのデータフレーム\n",
    "# インデックスが日付などの時間、列がユーザや店舗などで、値が売上などの注目する変数を表すものとする\n",
    "\n",
    "# 1期前のlagを取得\n",
    "x_lag1 = x.shift(1)\n",
    "\n",
    "# 7期前のlagを取得\n",
    "x_lag7 = x.shift(7)\n",
    "\n",
    "# -----------------------------------\n",
    "# 1期前から3期間の移動平均を算出\n",
    "x_avg3 = x.shift(1).rolling(window=3).mean()\n",
    "\n",
    "# -----------------------------------\n",
    "# 1期前から7期間の最大値を算出\n",
    "x_max7 = x.shift(1).rolling(window=7).max()\n",
    "\n",
    "# -----------------------------------\n",
    "# 7期前, 14期前, 21期前, 28期前の値の平均\n",
    "x_e7_avg = (x.shift(7) + x.shift(14) + x.shift(21) + x.shift(28)) / 4.0\n",
    "\n",
    "# -----------------------------------\n",
    "# 1期先の値を取得\n",
    "x_lead1 = x.shift(-1)\n",
    "\n",
    "# -----------------------------------\n",
    "# ラグ変数\n",
    "# -----------------------------------\n",
    "# データの読み込み\n",
    "train_x = pd.read_csv('../input/ch03/time_series_train.csv')\n",
    "event_history = pd.read_csv('../input/ch03/time_series_events.csv')\n",
    "train_x['date'] = pd.to_datetime(train_x['date'])\n",
    "event_history['date'] = pd.to_datetime(event_history['date'])\n",
    "# -----------------------------------\n",
    "\n",
    "# train_xは学習データで、ユーザID, 日付を列として持つDataFrameとする\n",
    "# event_historyは、過去に開催したイベントの情報で、日付、イベントを列として持つDataFrameとする\n",
    "\n",
    "# occurrencesは、日付、セールが開催されたか否かを列として持つDataFrameとなる\n",
    "dates = np.sort(train_x['date'].unique())\n",
    "occurrences = pd.DataFrame(dates, columns=['date'])\n",
    "sale_history = event_history[event_history['event'] == 'sale']\n",
    "occurrences['sale'] = occurrences['date'].isin(sale_history['date'])\n",
    "\n",
    "# 累積和をとることで、それぞれの日付での累積出現回数を表すようにする\n",
    "# occurrencesは、日付、セールの累積出現回数を列として持つDataFrameとなる\n",
    "occurrences['sale'] = occurrences['sale'].cumsum()\n",
    "\n",
    "# 日付をキーとして学習データと結合する\n",
    "train_x = train_x.merge(occurrences, on='date', how='left')"
   ]
  }
 ],
 "metadata": {
  "kernelspec": {
   "display_name": ".venv",
   "language": "python",
   "name": "python3"
  },
  "language_info": {
   "codemirror_mode": {
    "name": "ipython",
    "version": 3
   },
   "file_extension": ".py",
   "mimetype": "text/x-python",
   "name": "python",
   "nbconvert_exporter": "python",
   "pygments_lexer": "ipython3",
   "version": "3.11.3"
  },
  "orig_nbformat": 4
 },
 "nbformat": 4,
 "nbformat_minor": 2
}
